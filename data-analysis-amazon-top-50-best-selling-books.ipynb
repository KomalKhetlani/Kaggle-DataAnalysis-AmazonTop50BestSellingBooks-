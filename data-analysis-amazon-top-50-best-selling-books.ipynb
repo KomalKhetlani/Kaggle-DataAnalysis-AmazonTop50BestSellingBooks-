{
 "cells": [
  {
   "cell_type": "code",
   "execution_count": 1,
   "metadata": {
    "_cell_guid": "b1076dfc-b9ad-4769-8c92-a6c4dae69d19",
    "_uuid": "8f2839f25d086af736a60e9eeb907d3b93b6e0e5",
    "execution": {
     "iopub.execute_input": "2020-12-21T11:49:49.790973Z",
     "iopub.status.busy": "2020-12-21T11:49:49.787242Z",
     "iopub.status.idle": "2020-12-21T11:49:49.805574Z",
     "shell.execute_reply": "2020-12-21T11:49:49.804937Z"
    },
    "papermill": {
     "duration": 0.04155,
     "end_time": "2020-12-21T11:49:49.805694",
     "exception": false,
     "start_time": "2020-12-21T11:49:49.764144",
     "status": "completed"
    },
    "tags": []
   },
   "outputs": [
    {
     "name": "stdout",
     "output_type": "stream",
     "text": [
      "/kaggle/input/amazon-top-50-bestselling-books-2009-2019/bestsellers with categories.csv\n"
     ]
    }
   ],
   "source": [
    "# This Python 3 environment comes with many helpful analytics libraries installed\n",
    "# It is defined by the kaggle/python Docker image: https://github.com/kaggle/docker-python\n",
    "# For example, here's several helpful packages to load\n",
    "\n",
    "import numpy as np # linear algebra\n",
    "import pandas as pd # data processing, CSV file I/O (e.g. pd.read_csv)\n",
    "\n",
    "# Input data files are available in the read-only \"../input/\" directory\n",
    "# For example, running this (by clicking run or pressing Shift+Enter) will list all files under the input directory\n",
    "\n",
    "import os\n",
    "for dirname, _, filenames in os.walk('/kaggle/input'):\n",
    "    for filename in filenames:\n",
    "        print(os.path.join(dirname, filename))\n",
    "\n",
    "# You can write up to 20GB to the current directory (/kaggle/working/) that gets preserved as output when you create a version using \"Save & Run All\" \n",
    "# You can also write temporary files to /kaggle/temp/, but they won't be saved outside of the current session"
   ]
  },
  {
   "cell_type": "code",
   "execution_count": 2,
   "metadata": {
    "_cell_guid": "79c7e3d0-c299-4dcb-8224-4455121ee9b0",
    "_uuid": "d629ff2d2480ee46fbb7e2d37f6b5fab8052498a",
    "execution": {
     "iopub.execute_input": "2020-12-21T11:49:49.849322Z",
     "iopub.status.busy": "2020-12-21T11:49:49.848623Z",
     "iopub.status.idle": "2020-12-21T11:49:49.882985Z",
     "shell.execute_reply": "2020-12-21T11:49:49.882266Z"
    },
    "papermill": {
     "duration": 0.05686,
     "end_time": "2020-12-21T11:49:49.883098",
     "exception": false,
     "start_time": "2020-12-21T11:49:49.826238",
     "status": "completed"
    },
    "tags": []
   },
   "outputs": [
    {
     "name": "stdout",
     "output_type": "stream",
     "text": [
      "                                                Name  \\\n",
      "0                      10-Day Green Smoothie Cleanse   \n",
      "1                                  11/22/63: A Novel   \n",
      "2            12 Rules for Life: An Antidote to Chaos   \n",
      "3                             1984 (Signet Classics)   \n",
      "4  5,000 Awesome Facts (About Everything!) (Natio...   \n",
      "\n",
      "                     Author  User Rating  Reviews  Price  Year        Genre  \n",
      "0                  JJ Smith          4.7    17350      8  2016  Non Fiction  \n",
      "1              Stephen King          4.6     2052     22  2011      Fiction  \n",
      "2        Jordan B. Peterson          4.7    18979     15  2018  Non Fiction  \n",
      "3             George Orwell          4.7    21424      6  2017      Fiction  \n",
      "4  National Geographic Kids          4.8     7665     12  2019  Non Fiction  \n"
     ]
    }
   ],
   "source": [
    "df=pd.read_csv('/kaggle/input/amazon-top-50-bestselling-books-2009-2019/bestsellers with categories.csv')\n",
    "print(df.head())"
   ]
  },
  {
   "cell_type": "code",
   "execution_count": 3,
   "metadata": {
    "execution": {
     "iopub.execute_input": "2020-12-21T11:49:49.930445Z",
     "iopub.status.busy": "2020-12-21T11:49:49.929514Z",
     "iopub.status.idle": "2020-12-21T11:49:49.933133Z",
     "shell.execute_reply": "2020-12-21T11:49:49.933714Z"
    },
    "papermill": {
     "duration": 0.029976,
     "end_time": "2020-12-21T11:49:49.933875",
     "exception": false,
     "start_time": "2020-12-21T11:49:49.903899",
     "status": "completed"
    },
    "tags": []
   },
   "outputs": [
    {
     "name": "stdout",
     "output_type": "stream",
     "text": [
      "(550, 7)\n"
     ]
    }
   ],
   "source": [
    "print(df.shape)"
   ]
  },
  {
   "cell_type": "markdown",
   "metadata": {
    "papermill": {
     "duration": 0.020312,
     "end_time": "2020-12-21T11:49:49.974738",
     "exception": false,
     "start_time": "2020-12-21T11:49:49.954426",
     "status": "completed"
    },
    "tags": []
   },
   "source": [
    "The dataframe has 7 columns and 550 rows."
   ]
  },
  {
   "cell_type": "code",
   "execution_count": 4,
   "metadata": {
    "execution": {
     "iopub.execute_input": "2020-12-21T11:49:50.025589Z",
     "iopub.status.busy": "2020-12-21T11:49:50.024603Z",
     "iopub.status.idle": "2020-12-21T11:49:50.029933Z",
     "shell.execute_reply": "2020-12-21T11:49:50.029377Z"
    },
    "papermill": {
     "duration": 0.034204,
     "end_time": "2020-12-21T11:49:50.030043",
     "exception": false,
     "start_time": "2020-12-21T11:49:49.995839",
     "status": "completed"
    },
    "tags": []
   },
   "outputs": [
    {
     "data": {
      "text/plain": [
       "False"
      ]
     },
     "execution_count": 4,
     "metadata": {},
     "output_type": "execute_result"
    }
   ],
   "source": [
    "df.isnull().values.any()"
   ]
  },
  {
   "cell_type": "markdown",
   "metadata": {
    "papermill": {
     "duration": 0.021081,
     "end_time": "2020-12-21T11:49:50.073508",
     "exception": false,
     "start_time": "2020-12-21T11:49:50.052427",
     "status": "completed"
    },
    "tags": []
   },
   "source": [
    "There are no NaN values in a Dataframe.\n"
   ]
  },
  {
   "cell_type": "code",
   "execution_count": 5,
   "metadata": {
    "execution": {
     "iopub.execute_input": "2020-12-21T11:49:50.122411Z",
     "iopub.status.busy": "2020-12-21T11:49:50.121686Z",
     "iopub.status.idle": "2020-12-21T11:49:50.125449Z",
     "shell.execute_reply": "2020-12-21T11:49:50.124680Z"
    },
    "papermill": {
     "duration": 0.03062,
     "end_time": "2020-12-21T11:49:50.125606",
     "exception": false,
     "start_time": "2020-12-21T11:49:50.094986",
     "status": "completed"
    },
    "tags": []
   },
   "outputs": [
    {
     "name": "stdout",
     "output_type": "stream",
     "text": [
      "4.9\n"
     ]
    }
   ],
   "source": [
    "print(df['User Rating'].max())"
   ]
  },
  {
   "cell_type": "markdown",
   "metadata": {
    "papermill": {
     "duration": 0.022134,
     "end_time": "2020-12-21T11:49:50.171228",
     "exception": false,
     "start_time": "2020-12-21T11:49:50.149094",
     "status": "completed"
    },
    "tags": []
   },
   "source": [
    "The Maximum rating that a book has received is 4.9"
   ]
  },
  {
   "cell_type": "code",
   "execution_count": 6,
   "metadata": {
    "execution": {
     "iopub.execute_input": "2020-12-21T11:49:50.218838Z",
     "iopub.status.busy": "2020-12-21T11:49:50.218133Z",
     "iopub.status.idle": "2020-12-21T11:49:50.256178Z",
     "shell.execute_reply": "2020-12-21T11:49:50.256740Z"
    },
    "papermill": {
     "duration": 0.06388,
     "end_time": "2020-12-21T11:49:50.256915",
     "exception": false,
     "start_time": "2020-12-21T11:49:50.193035",
     "status": "completed"
    },
    "tags": []
   },
   "outputs": [
    {
     "name": "stdout",
     "output_type": "stream",
     "text": [
      "                                                  Name                 Author  \\\n",
      "40            Brown Bear, Brown Bear, What Do You See?        Bill Martin Jr.   \n",
      "41            Brown Bear, Brown Bear, What Do You See?        Bill Martin Jr.   \n",
      "81   Dog Man and Cat Kid: From the Creator of Capta...             Dav Pilkey   \n",
      "82   Dog Man: A Tale of Two Kitties: From the Creat...             Dav Pilkey   \n",
      "83   Dog Man: Brawl of the Wild: From the Creator o...             Dav Pilkey   \n",
      "84   Dog Man: Brawl of the Wild: From the Creator o...             Dav Pilkey   \n",
      "85   Dog Man: Fetch-22: From the Creator of Captain...             Dav Pilkey   \n",
      "86   Dog Man: For Whom the Ball Rolls: From the Cre...             Dav Pilkey   \n",
      "87   Dog Man: Lord of the Fleas: From the Creator o...             Dav Pilkey   \n",
      "146  Goodnight, Goodnight Construction Site (Hardco...   Sherri Duskey Rinker   \n",
      "147  Goodnight, Goodnight Construction Site (Hardco...   Sherri Duskey Rinker   \n",
      "151                           Hamilton: The Revolution     Lin-Manuel Miranda   \n",
      "153  Harry Potter and the Chamber of Secrets: The I...           J.K. Rowling   \n",
      "155  Harry Potter and the Goblet of Fire: The Illus...          J. K. Rowling   \n",
      "156  Harry Potter and the Prisoner of Azkaban: The ...           J.K. Rowling   \n",
      "157  Harry Potter and the Sorcerer's Stone: The Ill...           J.K. Rowling   \n",
      "174                       Humans of New York : Stories        Brandon Stanton   \n",
      "187  Jesus Calling: Enjoying Peace in His Presence ...            Sarah Young   \n",
      "188  Jesus Calling: Enjoying Peace in His Presence ...            Sarah Young   \n",
      "189  Jesus Calling: Enjoying Peace in His Presence ...            Sarah Young   \n",
      "190  Jesus Calling: Enjoying Peace in His Presence ...            Sarah Young   \n",
      "191  Jesus Calling: Enjoying Peace in His Presence ...            Sarah Young   \n",
      "192  Jesus Calling: Enjoying Peace in His Presence ...            Sarah Young   \n",
      "207  Last Week Tonight with John Oliver Presents A ...             Jill Twiss   \n",
      "219                                  Little Blue Truck         Alice Schertle   \n",
      "244                        Obama: An Intimate Portrait             Pete Souza   \n",
      "245                          Oh, the Places You'll Go!              Dr. Seuss   \n",
      "246                          Oh, the Places You'll Go!              Dr. Seuss   \n",
      "247                          Oh, the Places You'll Go!              Dr. Seuss   \n",
      "248                          Oh, the Places You'll Go!              Dr. Seuss   \n",
      "249                          Oh, the Places You'll Go!              Dr. Seuss   \n",
      "250                          Oh, the Places You'll Go!              Dr. Seuss   \n",
      "251                          Oh, the Places You'll Go!              Dr. Seuss   \n",
      "252                          Oh, the Places You'll Go!              Dr. Seuss   \n",
      "288  Rush Revere and the Brave Pilgrims: Time-Trave...          Rush Limbaugh   \n",
      "289  Rush Revere and the First Patriots: Time-Trave...          Rush Limbaugh   \n",
      "303             Strange Planet (Strange Planet Series)         Nathan W. Pyle   \n",
      "420               The Legend of Zelda: Hyrule Historia         Patrick Thorpe   \n",
      "431                                 The Magnolia Story            Chip Gaines   \n",
      "476                        The Very Hungry Caterpillar             Eric Carle   \n",
      "477                        The Very Hungry Caterpillar             Eric Carle   \n",
      "478                        The Very Hungry Caterpillar             Eric Carle   \n",
      "479                        The Very Hungry Caterpillar             Eric Carle   \n",
      "480                        The Very Hungry Caterpillar             Eric Carle   \n",
      "481                        The Very Hungry Caterpillar             Eric Carle   \n",
      "482                        The Very Hungry Caterpillar             Eric Carle   \n",
      "486                   The Wonderful Things You Will Be  Emily Winfield Martin   \n",
      "487                   The Wonderful Things You Will Be  Emily Winfield Martin   \n",
      "488                   The Wonderful Things You Will Be  Emily Winfield Martin   \n",
      "489                   The Wonderful Things You Will Be  Emily Winfield Martin   \n",
      "521                             Unfreedom of the Press          Mark R. Levin   \n",
      "545       Wrecking Ball (Diary of a Wimpy Kid Book 14)            Jeff Kinney   \n",
      "\n",
      "     User Rating  Reviews  Price  Year        Genre  \n",
      "40           4.9    14344      5  2017      Fiction  \n",
      "41           4.9    14344      5  2019      Fiction  \n",
      "81           4.9     5062      6  2018      Fiction  \n",
      "82           4.9     4786      8  2017      Fiction  \n",
      "83           4.9     7235      4  2018      Fiction  \n",
      "84           4.9     7235      4  2019      Fiction  \n",
      "85           4.9    12619      8  2019      Fiction  \n",
      "86           4.9     9089      8  2019      Fiction  \n",
      "87           4.9     5470      6  2018      Fiction  \n",
      "146          4.9     7038      7  2012      Fiction  \n",
      "147          4.9     7038      7  2013      Fiction  \n",
      "151          4.9     5867     54  2016  Non Fiction  \n",
      "153          4.9    19622     30  2016      Fiction  \n",
      "155          4.9     7758     18  2019      Fiction  \n",
      "156          4.9     3146     30  2017      Fiction  \n",
      "157          4.9    10052     22  2016      Fiction  \n",
      "174          4.9     2812     17  2015  Non Fiction  \n",
      "187          4.9    19576      8  2011  Non Fiction  \n",
      "188          4.9    19576      8  2012  Non Fiction  \n",
      "189          4.9    19576      8  2013  Non Fiction  \n",
      "190          4.9    19576      8  2014  Non Fiction  \n",
      "191          4.9    19576      8  2015  Non Fiction  \n",
      "192          4.9    19576      8  2016  Non Fiction  \n",
      "207          4.9    11881     13  2018      Fiction  \n",
      "219          4.9     1884      0  2014      Fiction  \n",
      "244          4.9     3192     22  2017  Non Fiction  \n",
      "245          4.9    21834      8  2012      Fiction  \n",
      "246          4.9    21834      8  2013      Fiction  \n",
      "247          4.9    21834      8  2014      Fiction  \n",
      "248          4.9    21834      8  2015      Fiction  \n",
      "249          4.9    21834      8  2016      Fiction  \n",
      "250          4.9    21834      8  2017      Fiction  \n",
      "251          4.9    21834      8  2018      Fiction  \n",
      "252          4.9    21834      8  2019      Fiction  \n",
      "288          4.9     7150     12  2013      Fiction  \n",
      "289          4.9     3836     12  2014      Fiction  \n",
      "303          4.9     9382      6  2019      Fiction  \n",
      "420          4.9     5396     20  2013      Fiction  \n",
      "431          4.9     7861      5  2016  Non Fiction  \n",
      "476          4.9    19546      5  2013      Fiction  \n",
      "477          4.9    19546      5  2014      Fiction  \n",
      "478          4.9    19546      5  2015      Fiction  \n",
      "479          4.9    19546      5  2016      Fiction  \n",
      "480          4.9    19546      5  2017      Fiction  \n",
      "481          4.9    19546      5  2018      Fiction  \n",
      "482          4.9    19546      5  2019      Fiction  \n",
      "486          4.9     8842     10  2016      Fiction  \n",
      "487          4.9     8842     10  2017      Fiction  \n",
      "488          4.9     8842     10  2018      Fiction  \n",
      "489          4.9     8842     10  2019      Fiction  \n",
      "521          4.9     5956     11  2019  Non Fiction  \n",
      "545          4.9     9413      8  2019      Fiction  \n"
     ]
    }
   ],
   "source": [
    "df1=df[df['User Rating']==4.9]\n",
    "print(df1)"
   ]
  },
  {
   "cell_type": "markdown",
   "metadata": {
    "papermill": {
     "duration": 0.021826,
     "end_time": "2020-12-21T11:49:50.301235",
     "exception": false,
     "start_time": "2020-12-21T11:49:50.279409",
     "status": "completed"
    },
    "tags": []
   },
   "source": [
    "Printing the details of the books with highest ratings"
   ]
  },
  {
   "cell_type": "code",
   "execution_count": 7,
   "metadata": {
    "execution": {
     "iopub.execute_input": "2020-12-21T11:49:50.348980Z",
     "iopub.status.busy": "2020-12-21T11:49:50.348300Z",
     "iopub.status.idle": "2020-12-21T11:49:50.360711Z",
     "shell.execute_reply": "2020-12-21T11:49:50.361529Z"
    },
    "papermill": {
     "duration": 0.038226,
     "end_time": "2020-12-21T11:49:50.361727",
     "exception": false,
     "start_time": "2020-12-21T11:49:50.323501",
     "status": "completed"
    },
    "tags": []
   },
   "outputs": [
    {
     "name": "stdout",
     "output_type": "stream",
     "text": [
      "                   Author  Count\n",
      "0          Alice Schertle      1\n",
      "1         Bill Martin Jr.      2\n",
      "2         Brandon Stanton      1\n",
      "3             Chip Gaines      1\n",
      "4              Dav Pilkey      7\n",
      "5               Dr. Seuss      8\n",
      "6   Emily Winfield Martin      4\n",
      "7              Eric Carle      7\n",
      "8           J. K. Rowling      1\n",
      "9            J.K. Rowling      3\n",
      "10            Jeff Kinney      1\n",
      "11             Jill Twiss      1\n",
      "12     Lin-Manuel Miranda      1\n",
      "13          Mark R. Levin      1\n",
      "14         Nathan W. Pyle      1\n",
      "15         Patrick Thorpe      1\n",
      "16             Pete Souza      1\n",
      "17          Rush Limbaugh      2\n",
      "18            Sarah Young      6\n",
      "19   Sherri Duskey Rinker      2\n"
     ]
    }
   ],
   "source": [
    "df2=df1.groupby(['Author']).size().reset_index(name=\"Count\")\n",
    "print(df2)"
   ]
  },
  {
   "cell_type": "markdown",
   "metadata": {
    "papermill": {
     "duration": 0.022468,
     "end_time": "2020-12-21T11:49:50.407903",
     "exception": false,
     "start_time": "2020-12-21T11:49:50.385435",
     "status": "completed"
    },
    "tags": []
   },
   "source": [
    "Printing the list of authors and the best sellers that they have produced.\n"
   ]
  },
  {
   "cell_type": "code",
   "execution_count": 8,
   "metadata": {
    "execution": {
     "iopub.execute_input": "2020-12-21T11:49:50.456502Z",
     "iopub.status.busy": "2020-12-21T11:49:50.455815Z",
     "iopub.status.idle": "2020-12-21T11:49:50.468067Z",
     "shell.execute_reply": "2020-12-21T11:49:50.466960Z"
    },
    "papermill": {
     "duration": 0.037635,
     "end_time": "2020-12-21T11:49:50.468240",
     "exception": false,
     "start_time": "2020-12-21T11:49:50.430605",
     "status": "completed"
    },
    "tags": []
   },
   "outputs": [
    {
     "name": "stdout",
     "output_type": "stream",
     "text": [
      "                   Author  Count\n",
      "5               Dr. Seuss      8\n",
      "4              Dav Pilkey      7\n",
      "7              Eric Carle      7\n",
      "18            Sarah Young      6\n",
      "6   Emily Winfield Martin      4\n",
      "9            J.K. Rowling      3\n",
      "19   Sherri Duskey Rinker      2\n",
      "17          Rush Limbaugh      2\n",
      "1         Bill Martin Jr.      2\n",
      "13          Mark R. Levin      1\n",
      "16             Pete Souza      1\n",
      "15         Patrick Thorpe      1\n",
      "14         Nathan W. Pyle      1\n",
      "0          Alice Schertle      1\n",
      "12     Lin-Manuel Miranda      1\n",
      "11             Jill Twiss      1\n",
      "8           J. K. Rowling      1\n",
      "3             Chip Gaines      1\n",
      "2         Brandon Stanton      1\n",
      "10            Jeff Kinney      1\n"
     ]
    }
   ],
   "source": [
    "df2=df2.sort_values(by='Count',ascending=False)\n",
    "print(df2)"
   ]
  },
  {
   "cell_type": "markdown",
   "metadata": {
    "papermill": {
     "duration": 0.022933,
     "end_time": "2020-12-21T11:49:50.514947",
     "exception": false,
     "start_time": "2020-12-21T11:49:50.492014",
     "status": "completed"
    },
    "tags": []
   },
   "source": [
    "The higheset number of best sellers are produced by Dr. Seuss who has produced 8 best sellers who has received highest ratings from users, followed by Dav Pilkey and Eric Carle who have produced 7 best sellers each of higheset ratings."
   ]
  },
  {
   "cell_type": "code",
   "execution_count": 9,
   "metadata": {
    "execution": {
     "iopub.execute_input": "2020-12-21T11:49:50.572715Z",
     "iopub.status.busy": "2020-12-21T11:49:50.571817Z",
     "iopub.status.idle": "2020-12-21T11:49:50.575703Z",
     "shell.execute_reply": "2020-12-21T11:49:50.576951Z"
    },
    "papermill": {
     "duration": 0.038951,
     "end_time": "2020-12-21T11:49:50.577168",
     "exception": false,
     "start_time": "2020-12-21T11:49:50.538217",
     "status": "completed"
    },
    "tags": []
   },
   "outputs": [
    {
     "name": "stdout",
     "output_type": "stream",
     "text": [
      "         Genre  Count\n",
      "0      Fiction     41\n",
      "1  Non Fiction     11\n"
     ]
    }
   ],
   "source": [
    "df3=df1.groupby(['Genre']).size().reset_index(name=\"Count\")\n",
    "print(df3)"
   ]
  },
  {
   "cell_type": "markdown",
   "metadata": {
    "papermill": {
     "duration": 0.023565,
     "end_time": "2020-12-21T11:49:50.625986",
     "exception": false,
     "start_time": "2020-12-21T11:49:50.602421",
     "status": "completed"
    },
    "tags": []
   },
   "source": [
    "The books that have received maximum ratings from users, out of which 41 are Fiction and only 11 are non fiction."
   ]
  },
  {
   "cell_type": "code",
   "execution_count": 10,
   "metadata": {
    "execution": {
     "iopub.execute_input": "2020-12-21T11:49:50.680090Z",
     "iopub.status.busy": "2020-12-21T11:49:50.679352Z",
     "iopub.status.idle": "2020-12-21T11:49:51.050580Z",
     "shell.execute_reply": "2020-12-21T11:49:51.049878Z"
    },
    "papermill": {
     "duration": 0.399891,
     "end_time": "2020-12-21T11:49:51.050695",
     "exception": false,
     "start_time": "2020-12-21T11:49:50.650804",
     "status": "completed"
    },
    "tags": []
   },
   "outputs": [
    {
     "data": {
      "image/png": "[encoded data removed]",
      "text/plain": [
       "<Figure size 432x288 with 1 Axes>"
      ]
     },
     "metadata": {
      "needs_background": "light"
     },
     "output_type": "display_data"
    }
   ],
   "source": [
    "df4=df.groupby(['Year','Genre']).size().reset_index(name=\"Count\")\n",
    "dfFiction=df4[df4['Genre']=='Fiction']\n",
    "dfNonFiction=df4[df4['Genre']=='Non Fiction']\n",
    "fic=dfFiction['Count'].tolist()\n",
    "nonfic=dfNonFiction['Count'].tolist()\n",
    "year=dfFiction['Year'].tolist()\n",
    "dfGr=pd.DataFrame({'Fiction': fic,\n",
    "                   'Non Fiction': nonfic}, index=year)\n",
    "ax = dfGr.plot.bar()"
   ]
  },
  {
   "cell_type": "markdown",
   "metadata": {
    "papermill": {
     "duration": 0.024685,
     "end_time": "2020-12-21T11:49:51.099818",
     "exception": false,
     "start_time": "2020-12-21T11:49:51.075133",
     "status": "completed"
    },
    "tags": []
   },
   "source": [
    "The bar chart above shows the number of books that were fiction vs non fiction among the best sellers over the years. For all the years except 2014, the number of fiction best sellers have been greater than non fiction best sellers.\n",
    "\n"
   ]
  },
  {
   "cell_type": "code",
   "execution_count": 11,
   "metadata": {
    "execution": {
     "iopub.execute_input": "2020-12-21T11:49:51.155771Z",
     "iopub.status.busy": "2020-12-21T11:49:51.154912Z",
     "iopub.status.idle": "2020-12-21T11:49:51.159150Z",
     "shell.execute_reply": "2020-12-21T11:49:51.158428Z"
    },
    "papermill": {
     "duration": 0.035065,
     "end_time": "2020-12-21T11:49:51.159270",
     "exception": false,
     "start_time": "2020-12-21T11:49:51.124205",
     "status": "completed"
    },
    "tags": []
   },
   "outputs": [
    {
     "name": "stdout",
     "output_type": "stream",
     "text": [
      "105\n",
      "0\n"
     ]
    }
   ],
   "source": [
    "MaxPrice=df['Price'].max()\n",
    "MinPrice=df['Price'].min()\n",
    "print(MaxPrice)\n",
    "print(MinPrice)"
   ]
  },
  {
   "cell_type": "markdown",
   "metadata": {
    "papermill": {
     "duration": 0.025122,
     "end_time": "2020-12-21T11:49:51.209725",
     "exception": false,
     "start_time": "2020-12-21T11:49:51.184603",
     "status": "completed"
    },
    "tags": []
   },
   "source": [
    "The Maximum price of a book is 105 and min is 0."
   ]
  },
  {
   "cell_type": "code",
   "execution_count": 12,
   "metadata": {
    "execution": {
     "iopub.execute_input": "2020-12-21T11:49:51.269022Z",
     "iopub.status.busy": "2020-12-21T11:49:51.268133Z",
     "iopub.status.idle": "2020-12-21T11:49:51.272008Z",
     "shell.execute_reply": "2020-12-21T11:49:51.272578Z"
    },
    "papermill": {
     "duration": 0.035869,
     "end_time": "2020-12-21T11:49:51.272719",
     "exception": false,
     "start_time": "2020-12-21T11:49:51.236850",
     "status": "completed"
    },
    "tags": []
   },
   "outputs": [
    {
     "name": "stdout",
     "output_type": "stream",
     "text": [
      "84\n"
     ]
    }
   ],
   "source": [
    "dfx=df[df['Price']==0]\n",
    "print(dfx.size)"
   ]
  },
  {
   "cell_type": "markdown",
   "metadata": {
    "papermill": {
     "duration": 0.025021,
     "end_time": "2020-12-21T11:49:51.323491",
     "exception": false,
     "start_time": "2020-12-21T11:49:51.298470",
     "status": "completed"
    },
    "tags": []
   },
   "source": [
    "There are 84 books for which price is 0. It may be because of those books being available in electronic format i.e. s ebooks.\n"
   ]
  },
  {
   "cell_type": "code",
   "execution_count": 13,
   "metadata": {
    "execution": {
     "iopub.execute_input": "2020-12-21T11:49:51.378141Z",
     "iopub.status.busy": "2020-12-21T11:49:51.377524Z",
     "iopub.status.idle": "2020-12-21T11:49:51.383716Z",
     "shell.execute_reply": "2020-12-21T11:49:51.384275Z"
    },
    "papermill": {
     "duration": 0.035115,
     "end_time": "2020-12-21T11:49:51.384440",
     "exception": false,
     "start_time": "2020-12-21T11:49:51.349325",
     "status": "completed"
    },
    "tags": []
   },
   "outputs": [
    {
     "name": "stdout",
     "output_type": "stream",
     "text": [
      "13.1\n"
     ]
    }
   ],
   "source": [
    "print(df['Price'].mean())"
   ]
  },
  {
   "cell_type": "markdown",
   "metadata": {
    "papermill": {
     "duration": 0.025547,
     "end_time": "2020-12-21T11:49:51.435867",
     "exception": false,
     "start_time": "2020-12-21T11:49:51.410320",
     "status": "completed"
    },
    "tags": []
   },
   "source": [
    "The average price of book is 13.1\n"
   ]
  },
  {
   "cell_type": "code",
   "execution_count": 14,
   "metadata": {
    "execution": {
     "iopub.execute_input": "2020-12-21T11:49:51.492041Z",
     "iopub.status.busy": "2020-12-21T11:49:51.490966Z",
     "iopub.status.idle": "2020-12-21T11:49:51.497986Z",
     "shell.execute_reply": "2020-12-21T11:49:51.498479Z"
    },
    "papermill": {
     "duration": 0.036735,
     "end_time": "2020-12-21T11:49:51.498633",
     "exception": false,
     "start_time": "2020-12-21T11:49:51.461898",
     "status": "completed"
    },
    "tags": []
   },
   "outputs": [
    {
     "name": "stdout",
     "output_type": "stream",
     "text": [
      "4.618363636363641\n"
     ]
    }
   ],
   "source": [
    "print(df['User Rating'].mean())"
   ]
  },
  {
   "cell_type": "markdown",
   "metadata": {
    "papermill": {
     "duration": 0.027786,
     "end_time": "2020-12-21T11:49:51.553591",
     "exception": false,
     "start_time": "2020-12-21T11:49:51.525805",
     "status": "completed"
    },
    "tags": []
   },
   "source": [
    "The average rating received on a best selling book is 4.6\n"
   ]
  },
  {
   "cell_type": "code",
   "execution_count": 15,
   "metadata": {
    "execution": {
     "iopub.execute_input": "2020-12-21T11:49:51.617526Z",
     "iopub.status.busy": "2020-12-21T11:49:51.616683Z",
     "iopub.status.idle": "2020-12-21T11:49:51.621543Z",
     "shell.execute_reply": "2020-12-21T11:49:51.620613Z"
    },
    "papermill": {
     "duration": 0.041536,
     "end_time": "2020-12-21T11:49:51.621699",
     "exception": false,
     "start_time": "2020-12-21T11:49:51.580163",
     "status": "completed"
    },
    "tags": []
   },
   "outputs": [
    {
     "name": "stdout",
     "output_type": "stream",
     "text": [
      "                                                 Name        Author  \\\n",
      "78  Divine Soul Mind Body Healing and Transmission...  Zhi Gang Sha   \n",
      "\n",
      "    User Rating  Reviews  Price  Year        Genre  \n",
      "78          4.6       37      6  2009  Non Fiction  \n"
     ]
    }
   ],
   "source": [
    "minRev=df['Reviews'].min()\n",
    "minRevDf=df[df['Reviews']==minRev]\n",
    "print(minRevDf)\n"
   ]
  },
  {
   "cell_type": "markdown",
   "metadata": {
    "papermill": {
     "duration": 0.027294,
     "end_time": "2020-12-21T11:49:51.677561",
     "exception": false,
     "start_time": "2020-12-21T11:49:51.650267",
     "status": "completed"
    },
    "tags": []
   },
   "source": [
    "The book 'Divine Soul Mind Body Healing and Transmission' has got minimum reviews (37) among the best sellers."
   ]
  },
  {
   "cell_type": "code",
   "execution_count": 16,
   "metadata": {
    "execution": {
     "iopub.execute_input": "2020-12-21T11:49:51.741589Z",
     "iopub.status.busy": "2020-12-21T11:49:51.740646Z",
     "iopub.status.idle": "2020-12-21T11:49:51.745936Z",
     "shell.execute_reply": "2020-12-21T11:49:51.746449Z"
    },
    "papermill": {
     "duration": 0.041896,
     "end_time": "2020-12-21T11:49:51.746608",
     "exception": false,
     "start_time": "2020-12-21T11:49:51.704712",
     "status": "completed"
    },
    "tags": []
   },
   "outputs": [
    {
     "name": "stdout",
     "output_type": "stream",
     "text": [
      "                        Name       Author  User Rating  Reviews  Price  Year  \\\n",
      "534  Where the Crawdads Sing  Delia Owens          4.8    87841     15  2019   \n",
      "\n",
      "       Genre  \n",
      "534  Fiction  \n"
     ]
    }
   ],
   "source": [
    "maxRev=df['Reviews'].max()\n",
    "maxRevDf=df[df['Reviews']==maxRev]\n",
    "print(maxRevDf)"
   ]
  },
  {
   "cell_type": "markdown",
   "metadata": {
    "papermill": {
     "duration": 0.029131,
     "end_time": "2020-12-21T11:49:51.803086",
     "exception": false,
     "start_time": "2020-12-21T11:49:51.773955",
     "status": "completed"
    },
    "tags": []
   },
   "source": [
    "The book 'Where the Crawdads sing' has got maximum user reviews (87841) among the best sellers."
   ]
  },
  {
   "cell_type": "code",
   "execution_count": 17,
   "metadata": {
    "execution": {
     "iopub.execute_input": "2020-12-21T11:49:51.870859Z",
     "iopub.status.busy": "2020-12-21T11:49:51.870161Z",
     "iopub.status.idle": "2020-12-21T11:49:51.873308Z",
     "shell.execute_reply": "2020-12-21T11:49:51.874135Z"
    },
    "papermill": {
     "duration": 0.043621,
     "end_time": "2020-12-21T11:49:51.874350",
     "exception": false,
     "start_time": "2020-12-21T11:49:51.830729",
     "status": "completed"
    },
    "tags": []
   },
   "outputs": [
    {
     "name": "stdout",
     "output_type": "stream",
     "text": [
      "Author\n",
      "Abraham Verghese              4.600000\n",
      "Adam Gasiewski                4.400000\n",
      "Adam Mansbach                 4.800000\n",
      "Adir Levy                     4.800000\n",
      "Admiral William H. McRaven    4.700000\n",
      "                                ...   \n",
      "Walter Isaacson               4.566667\n",
      "William Davis                 4.400000\n",
      "William P. Young              4.600000\n",
      "Wizards RPG Team              4.800000\n",
      "Zhi Gang Sha                  4.600000\n",
      "Name: User Rating, Length: 248, dtype: float64\n"
     ]
    }
   ],
   "source": [
    "df5=df.groupby('Author')['User Rating'].mean()\n",
    "print(df5)"
   ]
  },
  {
   "cell_type": "markdown",
   "metadata": {
    "papermill": {
     "duration": 0.027519,
     "end_time": "2020-12-21T11:49:51.931068",
     "exception": false,
     "start_time": "2020-12-21T11:49:51.903549",
     "status": "completed"
    },
    "tags": []
   },
   "source": [
    "The above data shows average rating of every best selling author"
   ]
  },
  {
   "cell_type": "code",
   "execution_count": null,
   "metadata": {
    "papermill": {
     "duration": 0.02788,
     "end_time": "2020-12-21T11:49:51.987738",
     "exception": false,
     "start_time": "2020-12-21T11:49:51.959858",
     "status": "completed"
    },
    "tags": []
   },
   "outputs": [],
   "source": []
  },
  {
   "cell_type": "code",
   "execution_count": null,
   "metadata": {
    "papermill": {
     "duration": 0.027558,
     "end_time": "2020-12-21T11:49:52.043805",
     "exception": false,
     "start_time": "2020-12-21T11:49:52.016247",
     "status": "completed"
    },
    "tags": []
   },
   "outputs": [],
   "source": []
  }
 ],
 "metadata": {
  "kernelspec": {
   "display_name": "Python 3",
   "language": "python",
   "name": "python3"
  },
  "language_info": {
   "codemirror_mode": {
    "name": "ipython",
    "version": 3
   },
   "file_extension": ".py",
   "mimetype": "text/x-python",
   "name": "python",
   "nbconvert_exporter": "python",
   "pygments_lexer": "ipython3",
   "version": "3.7.6"
  },
  "papermill": {
   "duration": 7.66258,
   "end_time": "2020-12-21T11:49:52.180272",
   "environment_variables": {},
   "exception": null,
   "input_path": "__notebook__.ipynb",
   "output_path": "__notebook__.ipynb",
   "parameters": {},
   "start_time": "2020-12-21T11:49:44.517692",
   "version": "2.1.0"
  }
 },
 "nbformat": 4,
 "nbformat_minor": 4
}
